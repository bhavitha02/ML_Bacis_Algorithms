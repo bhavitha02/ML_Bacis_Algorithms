{
 "cells": [
  {
   "cell_type": "code",
   "execution_count": null,
   "id": "5319f1cd-05a6-4084-90c5-0a6379f74988",
   "metadata": {},
   "outputs": [],
   "source": [
    "# when the target variable we are trying to predict is continuous\n",
    "# (e.g. in mathematical sense [1,5] is a continuous set where as {1,5} is discrete) then it is a regression problem."
   ]
  },
  {
   "cell_type": "code",
   "execution_count": 1,
   "id": "c7161a35-6e21-4c20-ae3c-d5e2c0a31e44",
   "metadata": {
    "tags": []
   },
   "outputs": [],
   "source": [
    "import matplotlib.pyplot as plt\n",
    "import numpy as np\n",
    "import pandas as pd"
   ]
  },
  {
   "cell_type": "code",
   "execution_count": 2,
   "id": "2efccee5-0822-4331-8ca2-55a76db28b18",
   "metadata": {
    "tags": []
   },
   "outputs": [],
   "source": [
    "# Load the diabetes dataset\n",
    "diabetes_X, diabetes_y = datasets.load_diabetes(return_X_y=True)"
   ]
  },
  {
   "cell_type": "code",
   "execution_count": 3,
   "id": "285c94cb-29b4-499a-9b7d-9251d92afa5b",
   "metadata": {
    "tags": []
   },
   "outputs": [
    {
     "data": {
      "text/plain": [
       "(442, 10)"
      ]
     },
     "execution_count": 3,
     "metadata": {},
     "output_type": "execute_result"
    }
   ],
   "source": [
    "diabetes_X.shape"
   ]
  },
  {
   "cell_type": "code",
   "execution_count": 4,
   "id": "06de40c9-cb1b-43ab-ac94-83f1d3562341",
   "metadata": {
    "tags": []
   },
   "outputs": [
    {
     "data": {
      "text/plain": [
       "(442,)"
      ]
     },
     "execution_count": 4,
     "metadata": {},
     "output_type": "execute_result"
    }
   ],
   "source": [
    "diabetes_y.shape"
   ]
  },
  {
   "cell_type": "code",
   "execution_count": 5,
   "id": "a9e2d20f-3671-4586-87dc-e7c4f49d4018",
   "metadata": {
    "tags": []
   },
   "outputs": [],
   "source": [
    "X = diabetes_X # N x M\n",
    "y = diabetes_y.reshape(-1,1)# N x 1"
   ]
  },
  {
   "cell_type": "code",
   "execution_count": 6,
   "id": "7294a983-47d4-47e6-9788-f2801f86b253",
   "metadata": {
    "tags": []
   },
   "outputs": [],
   "source": [
    "# Split the data into training/testing sets\n",
    "X_train = X[:-20]\n",
    "X_test = X[-20:]\n",
    "\n",
    "# Split the targets into training/testing sets\n",
    "y_train = y[:-20]\n",
    "y_test = y[-20:]"
   ]
  },
  {
   "cell_type": "code",
   "execution_count": 7,
   "id": "a280fc93-aab6-433d-82e5-eca0587856e4",
   "metadata": {
    "tags": []
   },
   "outputs": [],
   "source": [
    "# Linear Regression can be implemented in two ways 1. Ordinary least squares (OLS) 2. Gradient Descent"
   ]
  },
  {
   "cell_type": "code",
   "execution_count": 8,
   "id": "472f5c59-18dd-4c66-a192-3bcb1a5bb1b3",
   "metadata": {
    "tags": []
   },
   "outputs": [],
   "source": [
    "# Assumptions for OLS\n",
    "# 1. Observations are independent \n",
    "# 2. Linear relationship between the target and the observations\n",
    "# 3. No collinearity amoung the variables \n",
    "# 4. Residuals follow normal distibution\n",
    "# 5. No coorelation between variables and residuals\n",
    "# This method involves finding coefficients using linear algebra operations and is well suited for smaller datasets"
   ]
  },
  {
   "cell_type": "code",
   "execution_count": 9,
   "id": "0e831d30-79cf-4257-bff6-aabe10215fa7",
   "metadata": {
    "tags": []
   },
   "outputs": [],
   "source": [
    "# 2. Using Gradient descent algorithm - This is an iterative optimisation algotithm. \n",
    "# used to find minimum of a function by updating it's coefficients in the direction of steepest descent of the gradient \n",
    "# aiming to minimise the cost or error associated with the model's prediction."
   ]
  },
  {
   "cell_type": "code",
   "execution_count": 12,
   "id": "e010ad11-e024-423c-97db-9c2235bead59",
   "metadata": {
    "tags": []
   },
   "outputs": [
    {
     "data": {
      "text/plain": [
       "((422, 10), (422, 1))"
      ]
     },
     "execution_count": 12,
     "metadata": {},
     "output_type": "execute_result"
    }
   ],
   "source": [
    "X_train.shape, y_train.shape"
   ]
  },
  {
   "cell_type": "code",
   "execution_count": 13,
   "id": "0da4bbe5-7a12-4f21-9ff2-e50299150230",
   "metadata": {
    "tags": []
   },
   "outputs": [],
   "source": [
    "def initialize_weights(X):\n",
    "    bias = np.random.normal()\n",
    "    weights = np.random.normal(size=(X.shape[1], 1)) # m x 1\n",
    "    return bias, weights  "
   ]
  },
  {
   "cell_type": "code",
   "execution_count": 14,
   "id": "d524efc3-e817-4674-b086-9f67a31340d7",
   "metadata": {
    "tags": []
   },
   "outputs": [],
   "source": [
    "def prediction(X, bias, weights):\n",
    "    return bias + X@weights    "
   ]
  },
  {
   "cell_type": "code",
   "execution_count": 15,
   "id": "75ed1537-48d9-483b-b415-312286206510",
   "metadata": {
    "tags": []
   },
   "outputs": [],
   "source": [
    "def compute_cost(y_hat, y):\n",
    "    m = len(y_hat)\n",
    "    cost = np.sum(np.square(y_hat-y))/(2*m)\n",
    "    return cost"
   ]
  },
  {
   "cell_type": "code",
   "execution_count": 20,
   "id": "d9be3cd3-8c20-4ae9-936d-f84fd95e3915",
   "metadata": {
    "tags": []
   },
   "outputs": [],
   "source": [
    "def update_weights(X, y_hat, y):\n",
    "    m = len(y_hat)\n",
    "    d_bias =  np.sum(y_hat - y) / m\n",
    "    d_weights = np.dot(X.T, (y_hat - y)) / m \n",
    "    return d_bias, d_weights   "
   ]
  },
  {
   "cell_type": "code",
   "execution_count": 29,
   "id": "de759d52-8a94-44b2-b962-1a00ddb4c296",
   "metadata": {
    "tags": []
   },
   "outputs": [],
   "source": [
    "lr = 0.01\n",
    "iterations = 1000\n",
    "bias, weights = initialize_weights(X_train)\n",
    "cost_history = []\n",
    "for i in range(iterations):\n",
    "    y_hat = prediction(X_train, bias, weights)\n",
    "    # print(y_hat)\n",
    "    previous_cost = compute_cost(y_hat, y_train)\n",
    "    # print(previous_cost)\n",
    "    cost_history.append(previous_cost)\n",
    "    # print(cost_history)\n",
    "    bias_gradient, weights_gredient = update_weights(X_train, y_hat, y_train)\n",
    "    # print(bias_gradient, weights_gredient)\n",
    "    bias = bias - np.dot(lr, bias_gradient)\n",
    "    weights = weights - np.dot(lr, weights_gredient)\n",
    "    "
   ]
  },
  {
   "cell_type": "code",
   "execution_count": 30,
   "id": "982f95fb-5e71-40b6-b71e-9cc82946b7d1",
   "metadata": {
    "tags": []
   },
   "outputs": [
    {
     "data": {
      "text/plain": [
       "[<matplotlib.lines.Line2D at 0x10681bb10>]"
      ]
     },
     "execution_count": 30,
     "metadata": {},
     "output_type": "execute_result"
    },
    {
     "data": {
      "image/png": "[encoded data removed]",
      "text/plain": [
       "<Figure size 640x480 with 1 Axes>"
      ]
     },
     "metadata": {},
     "output_type": "display_data"
    }
   ],
   "source": [
    "plt.plot(cost_history)"
   ]
  },
  {
   "cell_type": "code",
   "execution_count": 31,
   "id": "d66795d0-cb98-41c6-9a02-828dc25fa7af",
   "metadata": {
    "tags": []
   },
   "outputs": [
    {
     "name": "stdout",
     "output_type": "stream",
     "text": [
      "153.34148456681905 [[  6.04891327]\n",
      " [  1.96231361]\n",
      " [ 21.65605311]\n",
      " [ 16.80790714]\n",
      " [  6.87442756]\n",
      " [  6.30493979]\n",
      " [-13.06236894]\n",
      " [ 16.20353122]\n",
      " [ 19.25153288]\n",
      " [ 12.74586322]]\n"
     ]
    }
   ],
   "source": [
    "print(bias, weights)"
   ]
  },
  {
   "cell_type": "code",
   "execution_count": null,
   "id": "0c8c55da-24b1-4926-87a2-b008240d4771",
   "metadata": {},
   "outputs": [],
   "source": []
  },
  {
   "cell_type": "code",
   "execution_count": null,
   "id": "58adba5c-3049-47d6-85a0-cb354b8335d7",
   "metadata": {},
   "outputs": [],
   "source": []
  },
  {
   "cell_type": "code",
   "execution_count": null,
   "id": "00f11daf-60b8-4129-a75e-bc05b2362436",
   "metadata": {},
   "outputs": [],
   "source": []
  },
  {
   "cell_type": "code",
   "execution_count": null,
   "id": "201718a8-1fcf-47ae-aacd-7b54ef813745",
   "metadata": {},
   "outputs": [],
   "source": []
  },
  {
   "cell_type": "code",
   "execution_count": null,
   "id": "64f047bf-4cdc-4b66-8a73-b4bdde0070da",
   "metadata": {},
   "outputs": [],
   "source": []
  }
 ],
 "metadata": {
  "kernelspec": {
   "display_name": "Python 3 (ipykernel)",
   "language": "python",
   "name": "python3"
  },
  "language_info": {
   "codemirror_mode": {
    "name": "ipython",
    "version": 3
   },
   "file_extension": ".py",
   "mimetype": "text/x-python",
   "name": "python",
   "nbconvert_exporter": "python",
   "pygments_lexer": "ipython3",
   "version": "3.11.4"
  }
 },
 "nbformat": 4,
 "nbformat_minor": 5
}
